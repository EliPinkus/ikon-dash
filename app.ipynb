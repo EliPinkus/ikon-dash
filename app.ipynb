{
 "cells": [
  {
   "cell_type": "code",
   "execution_count": null,
   "id": "b0d46e4b-655a-42fd-9ad1-c636ab749978",
   "metadata": {},
   "outputs": [],
   "source": [
    "import numpy as np\n",
    "import panel as pn\n",
    "import hvplot.pandas\n",
    "\n",
    "from sklearn.cluster import KMeans\n",
    "from bokeh.sampledata import iris\n",
    "pn.extension()"
   ]
  },
  {
   "cell_type": "code",
   "execution_count": null,
   "id": "e437883c-c944-4e7e-98a7-574415391265",
   "metadata": {},
   "outputs": [],
   "source": [
    "flowers = iris.flowers.copy()\n",
    "cols = list(flowers.columns)[:-1]\n",
    "\n",
    "x = pn.widgets.Select(name='x', options=cols)\n",
    "y = pn.widgets.Select(name='y', options=cols, value='sepal_width')\n",
    "n_clusters = pn.widgets.IntSlider(name='n_clusters', start=1, end=5, value=3)\n",
    "\n",
    "@pn.depends(x.param.value, y.param.value, n_clusters.param.value)\n",
    "def get_clusters(x, y, n_clusters):\n",
    "    kmeans = KMeans(n_clusters=n_clusters)\n",
    "    est = kmeans.fit(iris.flowers.iloc[:, :-1].values)\n",
    "    flowers['labels'] = est.labels_.astype('str')\n",
    "    centers = flowers.groupby('labels').mean()\n",
    "    return (flowers.sort_values('labels').hvplot.scatter(x, y, c='labels') *\n",
    "            centers.hvplot.scatter(x, y, marker='x', color='black', size=200,\n",
    "                                   padding=0.1, line_width=5))\n",
    "\n",
    "pn.Column(\n",
    "    '# Iris K-Means Clustering',\n",
    "    pn.Row(pn.WidgetBox(x, y, n_clusters), get_clusters)\n",
    ").servable()"
   ]
  },
  {
   "cell_type": "code",
   "execution_count": null,
   "id": "5c7658df-a786-40d6-94b0-751451f16fd9",
   "metadata": {},
   "outputs": [],
   "source": []
  },
  {
   "cell_type": "code",
   "execution_count": null,
   "id": "defb058d-b764-4bd7-88f6-7fb0b173d946",
   "metadata": {},
   "outputs": [],
   "source": []
  }
 ],
 "metadata": {
  "kernelspec": {
   "display_name": "ikon-dash",
   "language": "python",
   "name": "ikon-dash"
  },
  "language_info": {
   "codemirror_mode": {
    "name": "ipython",
    "version": 3
   },
   "file_extension": ".py",
   "mimetype": "text/x-python",
   "name": "python",
   "nbconvert_exporter": "python",
   "pygments_lexer": "ipython3",
   "version": "3.9.9"
  }
 },
 "nbformat": 4,
 "nbformat_minor": 5
}
